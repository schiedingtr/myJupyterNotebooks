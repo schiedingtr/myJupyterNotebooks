{
 "cells": [
  {
   "cell_type": "markdown",
   "id": "d43af783",
   "metadata": {},
   "source": [
    "# HW 09. Linear Regression"
   ]
  },
  {
   "cell_type": "markdown",
   "id": "ce4fd125",
   "metadata": {},
   "source": [
    "We continue to work with the same [SOCR](http://wiki.stat.ucla.edu/socr/index.php/SOCR_Data_Dinov_020108_HeightsWeights) data source as the last time."
   ]
  },
  {
   "cell_type": "code",
   "execution_count": 1,
   "id": "0dfb792b",
   "metadata": {},
   "outputs": [],
   "source": [
    "import numpy as np\n",
    "import pandas as pd\n",
    "import seaborn as sns\n",
    "import matplotlib.pyplot as plt\n",
    "from scipy.optimize import minimize_scalar\n",
    "from scipy.optimize import minimize\n",
    "%matplotlib inline"
   ]
  },
  {
   "cell_type": "markdown",
   "id": "def599a8",
   "metadata": {},
   "source": [
    "Import the data to a dataframe:"
   ]
  },
  {
   "cell_type": "code",
   "execution_count": 2,
   "id": "185c6ae0",
   "metadata": {},
   "outputs": [],
   "source": [
    "data = pd.read_csv('teenagers.csv', index_col='Index')"
   ]
  },
  {
   "cell_type": "markdown",
   "id": "abfc7340",
   "metadata": {},
   "source": [
    "**Task 1:** Use the method plot() from the module matplotlib.pyplot to plot the dependence of the weight on the height from the dataset. Add the plots of the two linear regressions to the graph: one with the coefficients ($w_0, w_1) = (60, 0.05)$ and the other with ($w_0, w_1) = (50, 0.16)$. Do the regressions approximate the data well? Don't forget to label the axis and add a title to the figure."
   ]
  },
  {
   "cell_type": "code",
   "execution_count": 3,
   "id": "72e7bba0",
   "metadata": {},
   "outputs": [],
   "source": [
    "#your code here"
   ]
  },
  {
   "cell_type": "markdown",
   "id": "ccc63d20",
   "metadata": {},
   "source": [
    "**Task 2:** Write a python fucntion error(X, Y, w0, w1), which calculates the Loss Function $Q(w_0, w_1) = \\sum_{i=1}^n {(y_i - (w_0 + w_1 * x_i))}^2 $"
   ]
  },
  {
   "cell_type": "code",
   "execution_count": 4,
   "id": "b1f38579",
   "metadata": {},
   "outputs": [],
   "source": [
    "#your code here"
   ]
  },
  {
   "cell_type": "markdown",
   "id": "249c78e6",
   "metadata": {},
   "source": [
    "**Task 3:** Plot the loss function vs $w_1$ with a fixed value of $w_0 = 50$ for your dataset. Where approximately does the function reaches its minimum?"
   ]
  },
  {
   "cell_type": "code",
   "execution_count": 5,
   "id": "cfa14ab8",
   "metadata": {},
   "outputs": [],
   "source": [
    "#your code here"
   ]
  },
  {
   "cell_type": "markdown",
   "id": "4f0f8669",
   "metadata": {},
   "source": [
    "**Task 4:** Use the method *minimize_scalar* from the module *scipy.optimize* to find the minimum of your Loss function for a fixed value of $w_0 = 50$. Make the method to look for the minimum in the range $ -5 \\le w_1 \\le 5$."
   ]
  },
  {
   "cell_type": "code",
   "execution_count": 6,
   "id": "5def14e7",
   "metadata": {},
   "outputs": [],
   "source": [
    "#your code here"
   ]
  },
  {
   "cell_type": "markdown",
   "id": "8f13e86f",
   "metadata": {},
   "source": [
    "**Task 5:** Use the method plot() from the module matplotlib.pyplot to plot the dependence of the weight on the height from the dataset. Add to the graph a plot of the linear regression with $w_0 = 50$, and $w_0 = \\text{the value you found in Task 4}$. Does this linear regression model the data better than the one from the Task 1?"
   ]
  },
  {
   "cell_type": "code",
   "execution_count": 7,
   "id": "e986e4d7",
   "metadata": {},
   "outputs": [],
   "source": [
    "#your code here"
   ]
  },
  {
   "cell_type": "markdown",
   "id": "c93439a4",
   "metadata": {},
   "source": [
    "**Task 6:** Make a 3D plot of the Loss function vs both $w_0$ and $w_1$. Label the axis and add a title to the plot. According to the plot, where should we look for the miminum of the loss function?"
   ]
  },
  {
   "cell_type": "code",
   "execution_count": 8,
   "id": "a4b3a48c",
   "metadata": {},
   "outputs": [],
   "source": [
    "#your code here"
   ]
  },
  {
   "cell_type": "markdown",
   "id": "160c8b29",
   "metadata": {},
   "source": [
    "**Task 7:** Use the method *minimize* from the module *scipy.optimize* to find the minimum of the loss function. Make the method to look for the minimum inside the range $-100 \\le w_0 \\le 100$, $-5 \\le w_1 \\le 5$. Use the argument *method='L-BFGS-B'*"
   ]
  },
  {
   "cell_type": "code",
   "execution_count": 9,
   "id": "58e1513d",
   "metadata": {},
   "outputs": [],
   "source": [
    "#your code here"
   ]
  },
  {
   "cell_type": "markdown",
   "id": "10ac3573",
   "metadata": {},
   "source": [
    "**Task 8:** Use the method plot() from the module matplotlib.pyplot to plot the dependence of the weight on the height from the dataset. Add to the graph a plot of the linear regression with $w_0 = w_0 = \\text{the value you found in Task 7}$, and $w_0 = \\text{the value you found in Task 7}$."
   ]
  },
  {
   "cell_type": "code",
   "execution_count": 10,
   "id": "4fa72188",
   "metadata": {},
   "outputs": [],
   "source": [
    "#your code here"
   ]
  }
 ],
 "metadata": {
  "kernelspec": {
   "display_name": "Python 3",
   "language": "python",
   "name": "python3"
  },
  "language_info": {
   "codemirror_mode": {
    "name": "ipython",
    "version": 3
   },
   "file_extension": ".py",
   "mimetype": "text/x-python",
   "name": "python",
   "nbconvert_exporter": "python",
   "pygments_lexer": "ipython3",
   "version": "3.8.8"
  }
 },
 "nbformat": 4,
 "nbformat_minor": 5
}
