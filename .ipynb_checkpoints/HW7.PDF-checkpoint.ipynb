{
 "cells": [
  {
   "cell_type": "markdown",
   "id": "756c844d",
   "metadata": {},
   "source": [
    "# Hand-Made Central Limit Theorem"
   ]
  },
  {
   "cell_type": "code",
   "execution_count": 1,
   "id": "07afddda",
   "metadata": {},
   "outputs": [],
   "source": [
    "import numpy as np\n",
    "import matplotlib.pyplot as plt\n",
    "import scipy.stats as sts\n",
    "import math\n",
    "%matplotlib inline"
   ]
  },
  {
   "cell_type": "markdown",
   "id": "a2e7f0b8",
   "metadata": {},
   "source": [
    "Central Limit Theorem says that if we have a distribution $F(X)$ with expected value $\\mu$ and dispersion $\\sigma^2$,  and we select $n$  i.i.d. random variables $X_1, X_2, ..., X_n$, then their mean $\\bar{X}$ is distributied normally with dispersion  $\\sigma^2/n$ and mean $\\mu$:\n",
    "\n",
    "$$\\bar{X}_n \\approx N(\\mathbb{E}\\mu, \\sigma^2 / n)$$"
   ]
  },
  {
   "cell_type": "markdown",
   "id": "bc680090",
   "metadata": {},
   "source": [
    "Let us check if it really so for the case when $F(X)$ is a uniform distribution:"
   ]
  },
  {
   "cell_type": "markdown",
   "id": "ad615787",
   "metadata": {},
   "source": [
    "Define uniform distribution from a to b:"
   ]
  },
  {
   "cell_type": "code",
   "execution_count": 53,
   "id": "f887051e",
   "metadata": {},
   "outputs": [
    {
     "data": {
      "text/plain": [
       "array([1.84440496, 2.88083717, 4.03333426, 1.20321981, 1.2503126 ,\n",
       "       3.06190211, 4.50415132, 3.94907489, 4.08445667, 3.44721879])"
      ]
     },
     "execution_count": 53,
     "metadata": {},
     "output_type": "execute_result"
    }
   ],
   "source": [
    "a = 1\n",
    "b = 5\n",
    "\n",
    "uniform_rv = sts.uniform(a, b-a)\n",
    "\n",
    "uniform_rv.rvs(10)"
   ]
  },
  {
   "cell_type": "markdown",
   "id": "174adb74",
   "metadata": {},
   "source": [
    "**Task 1**. Plot the probability density function of the uniform distribution:"
   ]
  },
  {
   "cell_type": "code",
   "execution_count": 19,
   "id": "9aaee7ab",
   "metadata": {},
   "outputs": [
    {
     "data": {
      "text/plain": [
       "Text(0.5, 0, '$x$')"
      ]
     },
     "execution_count": 19,
     "metadata": {},
     "output_type": "execute_result"
    },
    {
     "data": {
      "image/png": "[encoded data removed]",
      "text/plain": [
       "<Figure size 432x288 with 1 Axes>"
      ]
     },
     "metadata": {
      "needs_background": "light"
     },
     "output_type": "display_data"
    }
   ],
   "source": [
    "#your code here\n",
    "\n",
    "\n",
    "\n",
    "#you should obtain something like this:"
   ]
  },
  {
   "cell_type": "markdown",
   "id": "a10c3ac4",
   "metadata": {},
   "source": [
    "We are going to create *samples_no = 1000* sets of the size *n = 50* and calculate mean $\\bar{X}$ of each sample and store the results in the vector *sample_means*:"
   ]
  },
  {
   "cell_type": "code",
   "execution_count": 45,
   "id": "5ad64fbf",
   "metadata": {},
   "outputs": [],
   "source": [
    "samples_no = 1000"
   ]
  },
  {
   "cell_type": "code",
   "execution_count": 46,
   "id": "d77f572c",
   "metadata": {},
   "outputs": [],
   "source": [
    "\n",
    "n = 50\n",
    "sample_means = np.empty(samples_no)"
   ]
  },
  {
   "cell_type": "markdown",
   "id": "dcc72481",
   "metadata": {},
   "source": [
    "**Task 2**: Create a cycle for *i* from 0 to *samples_no*, in which you create a sample of the size *n*, calculate the mean of the sample and store its value in the vector *sample_means*"
   ]
  },
  {
   "cell_type": "code",
   "execution_count": 54,
   "id": "bd2e390a",
   "metadata": {},
   "outputs": [],
   "source": [
    "#your code here"
   ]
  },
  {
   "cell_type": "markdown",
   "id": "87f34861",
   "metadata": {},
   "source": [
    "**Task 3:** plot histogram of the vector sample_means. It should have a bell-like shape:"
   ]
  },
  {
   "cell_type": "code",
   "execution_count": 48,
   "id": "223afe5b",
   "metadata": {
    "scrolled": true
   },
   "outputs": [
    {
     "data": {
      "text/plain": [
       "Text(0.5, 0, '$x$')"
      ]
     },
     "execution_count": 48,
     "metadata": {},
     "output_type": "execute_result"
    },
    {
     "data": {
      "image/png": "[encoded data removed]",
      "text/plain": [
       "<Figure size 432x288 with 1 Axes>"
      ]
     },
     "metadata": {
      "needs_background": "light"
     },
     "output_type": "display_data"
    }
   ],
   "source": [
    "#your code here:\n",
    "\n",
    "#You should get something like this:"
   ]
  },
  {
   "cell_type": "markdown",
   "id": "0b1856f2",
   "metadata": {},
   "source": [
    "You are going to compare the obtained histogram from Task 3 with the normal distribution"
   ]
  },
  {
   "cell_type": "markdown",
   "id": "e180a5ea",
   "metadata": {},
   "source": [
    "**Task 4:** Create a normal distribution such, that it will be a distribution of the data you store in the vector *sample_means* and plot its density distribution function. Hint: to do that, you should know the **theoretical** expected value (i.e. mean) and dispersion (i.e. variance) of your initial uniform distribution. Look it up in Wikipedia."
   ]
  },
  {
   "cell_type": "code",
   "execution_count": 55,
   "id": "97abd035",
   "metadata": {},
   "outputs": [],
   "source": [
    "# your code here:\n",
    "\n"
   ]
  },
  {
   "cell_type": "markdown",
   "id": "c7218abd",
   "metadata": {},
   "source": [
    "**Task 5** Plot the histogram from Task 3 and the distribution density function from Task 4 *in the same Graph*. Do they look similar?"
   ]
  },
  {
   "cell_type": "code",
   "execution_count": 52,
   "id": "14f1e6d7",
   "metadata": {},
   "outputs": [
    {
     "data": {
      "text/plain": [
       "Text(0.5, 0, '$x$')"
      ]
     },
     "execution_count": 52,
     "metadata": {},
     "output_type": "execute_result"
    },
    {
     "data": {
      "image/png": "[encoded data removed]",
      "text/plain": [
       "<Figure size 432x288 with 1 Axes>"
      ]
     },
     "metadata": {
      "needs_background": "light"
     },
     "output_type": "display_data"
    }
   ],
   "source": [
    "#your code here\n",
    "\n",
    "\n",
    "#you should obtain something like this:"
   ]
  }
 ],
 "metadata": {
  "kernelspec": {
   "display_name": "Python 3",
   "language": "python",
   "name": "python3"
  },
  "language_info": {
   "codemirror_mode": {
    "name": "ipython",
    "version": 3
   },
   "file_extension": ".py",
   "mimetype": "text/x-python",
   "name": "python",
   "nbconvert_exporter": "python",
   "pygments_lexer": "ipython3",
   "version": "3.8.8"
  }
 },
 "nbformat": 4,
 "nbformat_minor": 5
}
