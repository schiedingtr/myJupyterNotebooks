{
 "cells": [
  {
   "cell_type": "markdown",
   "id": "b4789aa7",
   "metadata": {},
   "source": [
    "# Question 1"
   ]
  },
  {
   "cell_type": "code",
   "execution_count": 7,
   "id": "5ac68ce0",
   "metadata": {},
   "outputs": [],
   "source": [
    "import numpy as np\n",
    "import math as m"
   ]
  },
  {
   "cell_type": "code",
   "execution_count": 8,
   "id": "d19149d8",
   "metadata": {},
   "outputs": [],
   "source": [
    "a = np.array([4,-2])\n",
    "b = np.array([-3, 5])"
   ]
  },
  {
   "cell_type": "code",
   "execution_count": 9,
   "id": "ced6117b",
   "metadata": {},
   "outputs": [
    {
     "name": "stdout",
     "output_type": "stream",
     "text": [
      "c= [ 7 -7]\n"
     ]
    }
   ],
   "source": [
    "print('c=',a - b)"
   ]
  },
  {
   "cell_type": "code",
   "execution_count": 12,
   "id": "1a445211",
   "metadata": {},
   "outputs": [
    {
     "name": "stdout",
     "output_type": "stream",
     "text": [
      "length of c= 9.899494936611665\n"
     ]
    }
   ],
   "source": [
    "d = m.sqrt(7**2 + (-7)**2)\n",
    "print('length of c=', d)"
   ]
  },
  {
   "cell_type": "code",
   "execution_count": 16,
   "id": "e5bc25d5",
   "metadata": {},
   "outputs": [
    {
     "name": "stdout",
     "output_type": "stream",
     "text": [
      "Norm A= 4.47213595499958\n"
     ]
    }
   ],
   "source": [
    "from numpy.linalg import norm\n",
    "print('Norm A=',norm(a, ord=2))"
   ]
  },
  {
   "cell_type": "code",
   "execution_count": 17,
   "id": "a5b307e8",
   "metadata": {},
   "outputs": [
    {
     "name": "stdout",
     "output_type": "stream",
     "text": [
      "Norm B= 5.830951894845301\n"
     ]
    }
   ],
   "source": [
    "print('Norm B=',norm(b, ord=2))"
   ]
  },
  {
   "cell_type": "code",
   "execution_count": 19,
   "id": "1d3fe90d",
   "metadata": {},
   "outputs": [
    {
     "name": "stdout",
     "output_type": "stream",
     "text": [
      "A-B -1.3588159398457211\n"
     ]
    }
   ],
   "source": [
    "B = norm(b, ord=2)\n",
    "A = norm(a, ord=2)\n",
    "print('A-B', A-B)"
   ]
  },
  {
   "cell_type": "code",
   "execution_count": 21,
   "id": "0921c845",
   "metadata": {},
   "outputs": [
    {
     "name": "stdout",
     "output_type": "stream",
     "text": [
      "a * b -22\n"
     ]
    }
   ],
   "source": [
    "print('a * b', np.dot(a, b, out = None))"
   ]
  },
  {
   "cell_type": "code",
   "execution_count": 22,
   "id": "1beed0df",
   "metadata": {},
   "outputs": [
    {
     "name": "stdout",
     "output_type": "stream",
     "text": [
      "cos of angle between two vectors -0.8436614877321075\n"
     ]
    }
   ],
   "source": [
    "print('cos of angle between two vectors', -22/(norm(a,ord=2)*norm(b,ord=2)))"
   ]
  },
  {
   "cell_type": "code",
   "execution_count": 27,
   "id": "f28829f1",
   "metadata": {},
   "outputs": [
    {
     "name": "stdout",
     "output_type": "stream",
     "text": [
      "angle between a and b 2.5748634360662868\n"
     ]
    }
   ],
   "source": [
    "print('angle between a and b', np.arccos(-0.8436614877321075))"
   ]
  },
  {
   "cell_type": "code",
   "execution_count": null,
   "id": "1d65e633",
   "metadata": {},
   "outputs": [],
   "source": []
  }
 ],
 "metadata": {
  "kernelspec": {
   "display_name": "Python 3",
   "language": "python",
   "name": "python3"
  },
  "language_info": {
   "codemirror_mode": {
    "name": "ipython",
    "version": 3
   },
   "file_extension": ".py",
   "mimetype": "text/x-python",
   "name": "python",
   "nbconvert_exporter": "python",
   "pygments_lexer": "ipython3",
   "version": "3.8.8"
  }
 },
 "nbformat": 4,
 "nbformat_minor": 5
}
